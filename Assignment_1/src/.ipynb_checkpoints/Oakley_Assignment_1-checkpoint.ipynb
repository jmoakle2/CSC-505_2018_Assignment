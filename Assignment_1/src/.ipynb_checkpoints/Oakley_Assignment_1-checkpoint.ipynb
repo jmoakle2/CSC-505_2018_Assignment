{
 "cells": [
  {
   "cell_type": "markdown",
   "metadata": {},
   "source": [
    "Justin Oakley --\n",
    "CSC 505 Assignment 1\n",
    "\n",
    "    \"This IPython notebook collects all the data from a csv file called \"student_list\", randomizes the list itself, asks the user for an input for the amount of teams there should be based on the number of students, uses a list comprehension in order to sort out the students into teams, and then finally prints out all the teams.\""
   ]
  },
  {
   "cell_type": "code",
   "execution_count": 4,
   "metadata": {},
   "outputs": [
    {
     "name": "stdout",
     "output_type": "stream",
     "text": [
      "There are currently  33  people in the class.\n",
      "Number of teams desired: 5\n",
      "\n",
      " [['Evan Rhoades', '879020'], ['Richard Powell', '838561'], ['Shiyang Xiao', '718927'], ['Eury Kim', '682504'], ['Yang Peng', '671702'], ['Justin Oakley', '201430'], ['Rohit Gulia', '718591']]\n",
      "\n",
      " [['Matthew Smitherman', '116847'], ['Mouna Kalidindi', '540365'], ['Bhavana Yennam', '91253'], ['Linh Tran', '689359'], ['Hadi Soufi', '756405'], ['darpan Jhawar', '166174'], ['Hao Zhang', '52621']]\n",
      "\n",
      " [['Spencer Whyatt', '497988'], ['Saed Sayedahmed', '662179'], ['Charles Stamey', '42604'], ['Kevin Keomalaythong', '130722'], ['Evan Crabtree', '90387'], ['Phillip Jones', '342206'], ['Gregory Purvine', '94877']]\n",
      "\n",
      " [['Syed Ahzaz Shah', '492924'], ['Garrett Mostella', '665278'], ['Jonathan Langston', '115719'], ['Oana Dumitrescu', '928538'], ['Cody Cothern', '607252'], ['Luke Davis', '812917']]\n",
      "\n",
      " [['Maclean Frazier', '919611'], ['Thien Le', '238467'], ['Blair Gentry', '289174'], ['Daniel Wingo', '804939'], ['Bety Rostandy', '88452'], ['Logan Hornbuckle', '668967']]\n"
     ]
    }
   ],
   "source": [
    "import csv, random\n",
    "with open('C:\\\\Users\\\\oakle\\\\CSC-505_2018_Assignment\\\\Assignment_1\\\\data\\\\student_list.csv') as csv_file:\n",
    "    csv_list = list(csv.reader(csv_file))\n",
    "    random.shuffle(csv_list)\n",
    "    print(\"There are currently \", len(csv_list), \" people in the class.\")\n",
    "    user_input = int(input(\"Number of teams desired: \"))\n",
    "    teams = [[csv_list[list_idx] for list_idx in range(len(csv_list)) if list_idx % user_input == team_idx] for team_idx in range(user_input)]\n",
    "    \n",
    "    for team in teams:\n",
    "        print(\"\\n\",team)"
   ]
  }
 ],
 "metadata": {
  "kernelspec": {
   "display_name": "Python 3",
   "language": "python",
   "name": "python3"
  },
  "language_info": {
   "codemirror_mode": {
    "name": "ipython",
    "version": 3
   },
   "file_extension": ".py",
   "mimetype": "text/x-python",
   "name": "python",
   "nbconvert_exporter": "python",
   "pygments_lexer": "ipython3",
   "version": "3.6.5"
  }
 },
 "nbformat": 4,
 "nbformat_minor": 2
}
