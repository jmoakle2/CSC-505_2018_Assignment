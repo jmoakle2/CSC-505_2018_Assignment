{
 "cells": [
  {
   "cell_type": "code",
   "execution_count": 58,
   "metadata": {},
   "outputs": [
    {
     "name": "stdout",
     "output_type": "stream",
     "text": [
      "Enter the number of members per team: 5\n"
     ]
    }
   ],
   "source": [
    "import csv, random\n",
    "with open('C:\\\\Users\\\\oakle\\\\CSC-505_2018_Assignment\\\\Assignment_1\\\\data\\\\student_list.csv') as csv_file:\n",
    "    csv_list = list(csv.reader(csv_file))\n",
    "    random.shuffle(csv_list)\n",
    "    user_input = input(\"Enter the number of members per team: \")\n",
    "    team_number = 0 ; idx = 0"
   ]
  }
 ],
 "metadata": {
  "kernelspec": {
   "display_name": "Python 3",
   "language": "python",
   "name": "python3"
  },
  "language_info": {
   "codemirror_mode": {
    "name": "ipython",
    "version": 3
   },
   "file_extension": ".py",
   "mimetype": "text/x-python",
   "name": "python",
   "nbconvert_exporter": "python",
   "pygments_lexer": "ipython3",
   "version": "3.6.5"
  }
 },
 "nbformat": 4,
 "nbformat_minor": 2
}
