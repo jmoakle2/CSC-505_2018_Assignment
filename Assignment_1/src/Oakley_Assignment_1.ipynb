{
 "cells": [
  {
   "cell_type": "code",
   "execution_count": 6,
   "metadata": {},
   "outputs": [
    {
     "name": "stdout",
     "output_type": "stream",
     "text": [
      "There are currently  33  people in the class.\n",
      "Number of teams desired: 6\n",
      "[['Hadi Soufi', '756405'], ['Matthew Smitherman', '116847'], ['Cody Cothern', '607252'], ['Justin Oakley', '201430'], ['Spencer Whyatt', '497988']]\n",
      "[['Maclean Frazier', '919611'], ['Thien Le', '238467'], ['Mouna Kalidindi', '540365'], ['Shiyang Xiao', '718927'], ['Luke Davis', '812917']]\n",
      "[['Charles Stamey', '42604'], ['Yang Peng', '671702'], ['Blair Gentry', '289174'], ['Richard Powell', '838561'], ['Logan Hornbuckle', '668967']]\n",
      "[['Gregory Purvine', '94877'], ['Evan Crabtree', '90387'], ['Garrett Mostella', '665278'], ['Eury Kim', '682504'], ['Rohit Gulia', '718591'], ['Daniel Wingo', '804939']]\n",
      "[['Jonathan Langston', '115719'], ['Syed Ahzaz Shah', '492924'], ['darpan Jhawar', '166174'], ['Evan Rhoades', '879020'], ['Phillip Jones', '342206'], ['Linh Tran', '689359']]\n",
      "[['Kevin Keomalaythong', '130722'], ['Bety Rostandy', '88452'], ['Hao Zhang', '52621'], ['Oana Dumitrescu', '928538'], ['Saed Sayedahmed', '662179'], ['Bhavana Yennam', '91253']]\n"
     ]
    }
   ],
   "source": [
    "import csv, random, math\n",
    "with open('C:\\\\Users\\\\oakle\\\\CSC-505_2018_Assignment\\\\Assignment_1\\\\data\\\\student_list.csv') as csv_file:\n",
    "    csv_list = list(csv.reader(csv_file))\n",
    "    random.shuffle(csv_list)\n",
    "    print(\"There are currently \", len(csv_list), \" people in the class.\")\n",
    "    user_input = int(input(\"Number of teams desired: \"))\n",
    "    team_idx = 0; teams = []\n",
    "    \n",
    "    while team_idx < user_input:\n",
    "        temp_list = []\n",
    "        list_idx = team_idx\n",
    "        \n",
    "        while list_idx < len(csv_list):\n",
    "            temp_list.insert(0, csv_list[list_idx])\n",
    "            list_idx += user_input\n",
    "        \n",
    "        teams.insert(0, temp_list)\n",
    "        team_idx += 1\n",
    "        \n",
    "    for team in teams:\n",
    "        print(team)"
   ]
  }
 ],
 "metadata": {
  "kernelspec": {
   "display_name": "Python 3",
   "language": "python",
   "name": "python3"
  },
  "language_info": {
   "codemirror_mode": {
    "name": "ipython",
    "version": 3
   },
   "file_extension": ".py",
   "mimetype": "text/x-python",
   "name": "python",
   "nbconvert_exporter": "python",
   "pygments_lexer": "ipython3",
   "version": "3.6.5"
  }
 },
 "nbformat": 4,
 "nbformat_minor": 2
}
